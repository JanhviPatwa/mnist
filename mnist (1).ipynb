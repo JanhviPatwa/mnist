{
  "nbformat": 4,
  "nbformat_minor": 0,
  "metadata": {
    "colab": {
      "name": "mnist.ipynb",
      "provenance": [],
      "collapsed_sections": []
    },
    "kernelspec": {
      "name": "python3",
      "display_name": "Python 3"
    },
    "language_info": {
      "name": "python"
    }
  },
  "cells": [
    {
      "cell_type": "code",
      "source": [
        "import numpy as np\n",
        "import pandas as pd\n",
        "import matplotlib.pyplot as plt\n",
        "import tensorflow as tf\n",
        "from sklearn.preprocessing import LabelBinarizer\n",
        "import keras"
      ],
      "metadata": {
        "id": "2wo-fCTdn6sJ"
      },
      "execution_count": 7,
      "outputs": []
    },
    {
      "cell_type": "code",
      "source": [
        "def load_mnist(flatten=False):\n",
        "    (X_train,Y_train),(X_test, Y_test)=keras.datasets.mnist.load_data()\n",
        "    print(X_train.shape, Y_train.shape, X_test.shape,Y_test.shape)\n",
        "    #normalizations\n",
        "    X_train=X_train.astype(float)/255\n",
        "    X_test=X_test.astype(float)/255\n",
        "    \n",
        "    #data separation\n",
        "    X_train=X_train[:-10000]\n",
        "    X_val=X_train[-10000:]\n",
        "    Y_train=Y_train[:-10000]\n",
        "    Y_val=Y_train[-10000:]\n",
        "    \n",
        "    print(X_val.shape, Y_val.shape)\n",
        "    \n",
        "    if flatten:\n",
        "        X_train=X_train.reshape([X_train.shape[0],-1])\n",
        "        X_val=X_val.reshape([X_val.shape[0], -1])\n",
        "        X_test=X_test.reshape([X_test.shape[0], -1])\n",
        "    return X_train, Y_train, X_val, Y_val, X_test, Y_test\n"
      ],
      "metadata": {
        "id": "phAwZkiroFAB"
      },
      "execution_count": 8,
      "outputs": []
    },
    {
      "cell_type": "code",
      "source": [
        "X_train,Y_train,X_val,Y_val,X_test,Y_test=load_mnist()"
      ],
      "metadata": {
        "colab": {
          "base_uri": "https://localhost:8080/"
        },
        "id": "85wACLFRpGUR",
        "outputId": "0c9b03ed-9fc6-4364-eb14-b06039c1a32d"
      },
      "execution_count": 9,
      "outputs": [
        {
          "output_type": "stream",
          "name": "stdout",
          "text": [
            "Downloading data from https://storage.googleapis.com/tensorflow/tf-keras-datasets/mnist.npz\n",
            "11493376/11490434 [==============================] - 0s 0us/step\n",
            "11501568/11490434 [==============================] - 0s 0us/step\n",
            "(60000, 28, 28) (60000,) (10000, 28, 28) (10000,)\n",
            "(10000, 28, 28) (10000,)\n"
          ]
        }
      ]
    },
    {
      "cell_type": "code",
      "source": [
        "print(Y_train[6])\n",
        "plt.imshow(X_train[6], cmap=\"Greys\")"
      ],
      "metadata": {
        "colab": {
          "base_uri": "https://localhost:8080/",
          "height": 300
        },
        "id": "Ua1p_yp2sbtu",
        "outputId": "2391c239-fa9a-4246-dadc-94efcc0424f1"
      },
      "execution_count": 10,
      "outputs": [
        {
          "output_type": "stream",
          "name": "stdout",
          "text": [
            "1\n"
          ]
        },
        {
          "output_type": "execute_result",
          "data": {
            "text/plain": [
              "<matplotlib.image.AxesImage at 0x7f1fd6561890>"
            ]
          },
          "metadata": {},
          "execution_count": 10
        },
        {
          "output_type": "display_data",
          "data": {
            "text/plain": [
              "<Figure size 432x288 with 1 Axes>"
            ],
            "image/png": "[encoded data removed]"
          },
          "metadata": {
            "needs_background": "light"
          }
        }
      ]
    },
    {
      "cell_type": "code",
      "source": [
        "X_train[0].shape"
      ],
      "metadata": {
        "colab": {
          "base_uri": "https://localhost:8080/"
        },
        "id": "BxesU0VGtgKF",
        "outputId": "7dbf116f-59c9-404a-f357-b06e37f40a02"
      },
      "execution_count": 11,
      "outputs": [
        {
          "output_type": "execute_result",
          "data": {
            "text/plain": [
              "(28, 28)"
            ]
          },
          "metadata": {},
          "execution_count": 11
        }
      ]
    },
    {
      "cell_type": "code",
      "source": [
        "X_train.shape"
      ],
      "metadata": {
        "colab": {
          "base_uri": "https://localhost:8080/"
        },
        "id": "CpUvHLvEt99L",
        "outputId": "7758f48f-a0c5-46be-a26d-1ce527502050"
      },
      "execution_count": 12,
      "outputs": [
        {
          "output_type": "execute_result",
          "data": {
            "text/plain": [
              "(50000, 28, 28)"
            ]
          },
          "metadata": {},
          "execution_count": 12
        }
      ]
    },
    {
      "cell_type": "markdown",
      "source": [
        "**Changing dimension of input from N 28*28 to N*784 **"
      ],
      "metadata": {
        "id": "2QTeXvlDuCuJ"
      }
    },
    {
      "cell_type": "code",
      "source": [
        "X_train=X_train.reshape((X_train.shape[0],\n",
        "                        X_train.shape[1]* X_train.shape[2]))\n",
        "X_test=X_test.reshape((X_test.shape[0],\n",
        "                      X_test.shape[1]*X_test.shape[2]))"
      ],
      "metadata": {
        "id": "7PyNKTp5uBaZ"
      },
      "execution_count": 13,
      "outputs": []
    },
    {
      "cell_type": "code",
      "source": [
        "X_train.shape"
      ],
      "metadata": {
        "colab": {
          "base_uri": "https://localhost:8080/"
        },
        "id": "jhme5sQI5Yw-",
        "outputId": "4533ba85-4daa-42f3-a3ef-92dc22a81d84"
      },
      "execution_count": 14,
      "outputs": [
        {
          "output_type": "execute_result",
          "data": {
            "text/plain": [
              "(50000, 784)"
            ]
          },
          "metadata": {},
          "execution_count": 14
        }
      ]
    },
    {
      "cell_type": "code",
      "source": [
        "Y_train=LabelBinarizer().fit_transform(Y_train)\n",
        "Y_test=LabelBinarizer().fit_transform(Y_test)"
      ],
      "metadata": {
        "id": "m53EtcIJ7A6x"
      },
      "execution_count": 15,
      "outputs": []
    },
    {
      "cell_type": "code",
      "source": [
        "print(Y_train.shape, Y_test.shape)"
      ],
      "metadata": {
        "colab": {
          "base_uri": "https://localhost:8080/"
        },
        "id": "SqoWTr7n6wxU",
        "outputId": "969b483b-5bfe-4ebe-c921-7f5a1401eeda"
      },
      "execution_count": 16,
      "outputs": [
        {
          "output_type": "stream",
          "name": "stdout",
          "text": [
            "(50000, 10) (10000, 10)\n"
          ]
        }
      ]
    },
    {
      "cell_type": "code",
      "source": [
        "num_classes=Y_train.shape[1]\n",
        "num_features=X_train.shape[1]\n",
        "num_output=Y_train.shape[1]\n",
        "num_layers_0=512\n",
        "num_layers_1=256\n",
        "start_learning_rate=0.001\n",
        "regularizer_rate=0.1"
      ],
      "metadata": {
        "id": "hvuNV6AhZPyN"
      },
      "execution_count": 17,
      "outputs": []
    },
    {
      "cell_type": "code",
      "source": [
        "import tensorflow.compat.v1 as tf\n",
        "tf.disable_v2_behavior()"
      ],
      "metadata": {
        "id": "ixkibbyg64Rt"
      },
      "execution_count": 19,
      "outputs": []
    },
    {
      "cell_type": "code",
      "source": [
        "input_X=tf.placeholder('float32',\n",
        "                       shape=(None, num_features),\n",
        "                      name=\"input_X\")\n",
        "input_Y=tf.placeholder('float32',\n",
        "                       shape=(None, num_classes),\n",
        "                      name=\"input_Y\")\n",
        "keep_prob=tf.placeholder(tf.float32)"
      ],
      "metadata": {
        "id": "ioCPe71d9idK"
      },
      "execution_count": 20,
      "outputs": []
    },
    {
      "cell_type": "code",
      "source": [
        "#input layer\n",
        "weight_0=tf.Variable(tf.random_normal([num_features,\n",
        "                num_layers_0],\n",
        "        stddev=1/tf.sqrt(float(num_features))))\n",
        "bias_0=tf.Variable(tf.random_normal([num_layers_0]))\n",
        "\n",
        "weight_1=tf.Variable(tf.random_normal([num_layers_0,\n",
        "                num_layers_1],\n",
        "        stddev=1/tf.sqrt(float(num_layers_0))))\n",
        "bias_1=tf.Variable(tf.random_normal([num_layers_1]))\n",
        "\n",
        "\n",
        "#output layer\n",
        "weight_2=tf.Variable(tf.random_normal([num_layers_1,\n",
        "                num_output],\n",
        "        stddev=1/tf.sqrt(float(num_layers_1))))\n",
        "bias_2=tf.Variable(tf.random_normal([num_output]))"
      ],
      "metadata": {
        "id": "ygtFBpjv_GVn"
      },
      "execution_count": 21,
      "outputs": []
    },
    {
      "cell_type": "code",
      "source": [
        "hidden_output_0=tf.nn.relu(tf.matmul(input_X,\n",
        "                                     weight_0)+bias_0)\n",
        "\n",
        "hidden_output_0_0=tf.nn.dropout(hidden_output_0,\n",
        "                                keep_prob)\n",
        "\n",
        "hidden_output_1=tf.nn.relu(tf.matmul(hidden_output_0_0,\n",
        "                                     weight_1)+bias_1)\n",
        "hidden_output_1_1=tf.nn.dropout(hidden_output_1,\n",
        "                                keep_prob)\n",
        "\n",
        "predicted_y=tf.sigmoid(tf.matmul(hidden_output_1_1,\n",
        "                                weight_2)+bias_2)"
      ],
      "metadata": {
        "colab": {
          "base_uri": "https://localhost:8080/"
        },
        "id": "TBVwZAblA01P",
        "outputId": "da49db95-7a0f-48a3-be01-7c3a664ab4fe"
      },
      "execution_count": 22,
      "outputs": [
        {
          "output_type": "stream",
          "name": "stdout",
          "text": [
            "WARNING:tensorflow:From /usr/local/lib/python3.7/dist-packages/tensorflow/python/util/dispatch.py:1082: calling dropout (from tensorflow.python.ops.nn_ops) with keep_prob is deprecated and will be removed in a future version.\n",
            "Instructions for updating:\n",
            "Please use `rate` instead of `keep_prob`. Rate should be set to `rate = 1 - keep_prob`.\n"
          ]
        }
      ]
    },
    {
      "cell_type": "code",
      "source": [
        "loss=tf.reduce_mean(tf.nn.softmax_cross_entropy_with_logits(logits=predicted_y,labels=input_Y))+regularizer_rate*(tf.reduce_mean(tf.square(bias_0)) *tf.reduce_mean(tf.square(bias_1)) )"
      ],
      "metadata": {
        "colab": {
          "base_uri": "https://localhost:8080/"
        },
        "id": "L9EOiQu4CIuZ",
        "outputId": "ffd19c5f-6f0d-471d-d120-1d23b822cd71"
      },
      "execution_count": 24,
      "outputs": [
        {
          "output_type": "stream",
          "name": "stdout",
          "text": [
            "WARNING:tensorflow:From /usr/local/lib/python3.7/dist-packages/tensorflow/python/util/dispatch.py:1082: softmax_cross_entropy_with_logits (from tensorflow.python.ops.nn_ops) is deprecated and will be removed in a future version.\n",
            "Instructions for updating:\n",
            "\n",
            "Future major versions of TensorFlow will allow gradients to flow\n",
            "into the labels input on backprop by default.\n",
            "\n",
            "See `tf.nn.softmax_cross_entropy_with_logits_v2`.\n",
            "\n"
          ]
        }
      ]
    },
    {
      "cell_type": "code",
      "source": [
        "learning_rate=tf.train.exponential_decay(start_learning_rate,\n",
        "      0, 5, 0.85, staircase=True)\n",
        "optimizer=tf.train.AdamOptimizer(learning_rate).minimize(loss,\n",
        "            var_list=[weight_0, weight_1, weight_2,\n",
        "                    bias_0, bias_1, bias_2])"
      ],
      "metadata": {
        "id": "vcho1RMcE_Ao"
      },
      "execution_count": 25,
      "outputs": []
    },
    {
      "cell_type": "code",
      "source": [
        "correct_prediction=tf.equal(tf.argmax(Y_train,1),\n",
        "tf.argmax(predicted_y,1))\n",
        "accuracy=tf.reduce_mean(tf.cast(correct_prediction,\n",
        "                                tf.float32))\n"
      ],
      "metadata": {
        "id": "tyC8EYjHHEMO"
      },
      "execution_count": 26,
      "outputs": []
    },
    {
      "cell_type": "code",
      "source": [
        "batch_size=128\n",
        "epochs=125\n",
        "dropout_pron=0.6\n"
      ],
      "metadata": {
        "id": "9C_Ij3SGHzl8"
      },
      "execution_count": 27,
      "outputs": []
    },
    {
      "cell_type": "code",
      "source": [
        "training_accuracy=[]\n",
        "training_loss=[]\n",
        "testing_accuracy=[]"
      ],
      "metadata": {
        "id": "TonHn5vNIYw_"
      },
      "execution_count": 33,
      "outputs": []
    },
    {
      "cell_type": "code",
      "source": [
        "s=tf.InteractiveSession()\n"
      ],
      "metadata": {
        "id": "922f-9nXIkSN"
      },
      "execution_count": 29,
      "outputs": []
    },
    {
      "cell_type": "code",
      "source": [
        "from sklearn.metrics import accuracy_score\n"
      ],
      "metadata": {
        "id": "WT140lqHIotA"
      },
      "execution_count": 30,
      "outputs": []
    },
    {
      "cell_type": "code",
      "source": [
        "s.run(tf.global_variables_initializer())\n",
        "for epoch in range(epochs):\n",
        "    arr=np.arange(X_train.shape[0])\n",
        "    np.random.shuffle(arr)\n",
        "    for index in range(0, X_train.shape[0], batch_size):\n",
        "        s.run(optimizer,{input_X:X_train[arr[index:index+batch_size]],\n",
        "                         input_Y:Y_train[arr[index:index+batch_size]],\n",
        "         keep_prob:dropout_pron})\n",
        "        \n",
        "    training_accuracy.append(s.run(accuracy,\n",
        "            feed_dict={input_X:X_train,\n",
        "                      input_Y:Y_train, keep_prob:1}))\n",
        "    testing_accuracy.append(accuracy_score(Y_test.argmax(1),\n",
        "                s.run(predicted_y,{input_X:X_test, keep_prob:1}).argmax(1)))\n",
        "        \n",
        "    training_loss.append(s.run(loss,\n",
        "                        {input_X: X_train,\n",
        "                        input_Y: Y_train, keep_prob:1}))\n",
        "        \n",
        "    print(\"Epochs:{0}, Train loss:{1:.2f}, Train accu: {2:.3f},Test accu:{3:.3f}\".format(epoch,\n",
        "                training_loss[epoch], training_accuracy[epoch],testing_accuracy[epoch]))"
      ],
      "metadata": {
        "colab": {
          "base_uri": "https://localhost:8080/"
        },
        "id": "gKVzakBCI1E3",
        "outputId": "11e20180-09de-4e49-ffef-76537ab1ca97"
      },
      "execution_count": null,
      "outputs": [
        {
          "output_type": "stream",
          "name": "stdout",
          "text": [
            "Epochs:0, Train loss:1.56, Train accu: 0.936,Test accu:0.935\n",
            "Epochs:1, Train loss:1.52, Train accu: 0.953,Test accu:0.951\n",
            "Epochs:2, Train loss:1.50, Train accu: 0.963,Test accu:0.957\n",
            "Epochs:3, Train loss:1.49, Train accu: 0.971,Test accu:0.966\n",
            "Epochs:4, Train loss:1.49, Train accu: 0.976,Test accu:0.969\n",
            "Epochs:5, Train loss:1.48, Train accu: 0.980,Test accu:0.974\n",
            "Epochs:6, Train loss:1.48, Train accu: 0.981,Test accu:0.972\n",
            "Epochs:7, Train loss:1.48, Train accu: 0.985,Test accu:0.976\n"
          ]
        }
      ]
    },
    {
      "cell_type": "code",
      "source": [
        ""
      ],
      "metadata": {
        "id": "JkMSRYnjM191"
      },
      "execution_count": null,
      "outputs": []
    },
    {
      "cell_type": "code",
      "source": [
        ""
      ],
      "metadata": {
        "id": "BBFIgCzC8VkY"
      },
      "execution_count": 6,
      "outputs": []
    },
    {
      "cell_type": "code",
      "source": [
        ""
      ],
      "metadata": {
        "id": "A-RYGOMA_XDX"
      },
      "execution_count": 2,
      "outputs": []
    }
  ]
}